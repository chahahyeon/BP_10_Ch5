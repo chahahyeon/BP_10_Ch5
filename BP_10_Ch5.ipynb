{
  "nbformat": 4,
  "nbformat_minor": 0,
  "metadata": {
    "colab": {
      "provenance": [],
      "authorship_tag": "ABX9TyPKRjfNp89V3Q5xrejkwDfz",
      "include_colab_link": true
    },
    "kernelspec": {
      "name": "python3",
      "display_name": "Python 3"
    },
    "language_info": {
      "name": "python"
    }
  },
  "cells": [
    {
      "cell_type": "markdown",
      "metadata": {
        "id": "view-in-github",
        "colab_type": "text"
      },
      "source": [
        "<a href=\"https://colab.research.google.com/github/chahahyeon/BP_10_Ch5/blob/main/BP_10_Ch5.ipynb\" target=\"_parent\"><img src=\"https://colab.research.google.com/assets/colab-badge.svg\" alt=\"Open In Colab\"/></a>"
      ]
    },
    {
      "cell_type": "code",
      "execution_count": 23,
      "metadata": {
        "colab": {
          "base_uri": "https://localhost:8080/"
        },
        "outputId": "ea6e7a60-f861-421c-c910-22bc1ca7948e",
        "id": "hCyUMteB_8Qx"
      },
      "outputs": [
        {
          "output_type": "stream",
          "name": "stdout",
          "text": [
            "20살 이상\n"
          ]
        }
      ],
      "source": [
        "age=20\n",
        "if age<20:\n",
        "   print('20살 미만')\n",
        "else:\n",
        "   print('20살 이상')"
      ]
    },
    {
      "cell_type": "code",
      "source": [
        "age=20\n",
        "if age >= 30 and age <= 50:\n",
        "     print('30살 이상이고 50살 이하')"
      ],
      "metadata": {
        "id": "JyxrnT50_-T4"
      },
      "execution_count": 25,
      "outputs": []
    },
    {
      "cell_type": "code",
      "source": [
        "temp=int(input(\"현재 온도를 입력하시오.: \"))\n",
        "if temp >=25:\n",
        "  print(\"반바지를 입으세요\")\n",
        "else:\n",
        "  print(\"긴바지를 입으세요\")"
      ],
      "metadata": {
        "colab": {
          "base_uri": "https://localhost:8080/"
        },
        "id": "v6wzrTa1AWnK",
        "outputId": "a1f016ad-cbb0-4334-d938-d96a0f64d49d"
      },
      "execution_count": 38,
      "outputs": [
        {
          "output_type": "stream",
          "name": "stdout",
          "text": [
            "현재 온도를 입력하시오.: 10\n",
            "긴바지를 입으세요\n"
          ]
        }
      ]
    },
    {
      "cell_type": "code",
      "source": [
        "score=int(input(\"성적을 입력하시오: \"))\n",
        "\n",
        "if score >= 90:\n",
        "  print(\"A학점입니다.\")\n",
        "elif score >= 80:\n",
        "  print(\"B학점입니다.\")\n",
        "elif score >= 70:\n",
        "  print(\"C학점입니다.\")\n",
        "elif score >= 60:\n",
        "  print(\"D학점입니다.\")\n",
        "else:\n",
        "  print(\"F학점입니다.\")\n"
      ],
      "metadata": {
        "colab": {
          "base_uri": "https://localhost:8080/"
        },
        "id": "IUfKkZ8GAvZH",
        "outputId": "f8fe2b06-c674-4fc3-8184-fdcf170793fd"
      },
      "execution_count": 28,
      "outputs": [
        {
          "output_type": "stream",
          "name": "stdout",
          "text": [
            "성적을 입력하시오: 99\n",
            "A학점입니다.\n"
          ]
        }
      ]
    },
    {
      "cell_type": "code",
      "source": [
        "import random\n",
        "x= random.randint(1,100)\n",
        "y= random.randint(1,100)\n",
        "\n",
        "ans= int(input(str(x)+\"-\"+str(y)+\"=\"))\n",
        "\n",
        "if ans == x-y:\n",
        "  print(\"맞았습니다.\")\n",
        "else :\n",
        "  print(\"틀렸습니다.\")"
      ],
      "metadata": {
        "colab": {
          "base_uri": "https://localhost:8080/"
        },
        "id": "8lN3Hth1BibL",
        "outputId": "3bc71f10-3001-4940-9ecd-5a7918c62c48"
      },
      "execution_count": 30,
      "outputs": [
        {
          "output_type": "stream",
          "name": "stdout",
          "text": [
            "5-1=4\n",
            "맞았습니다.\n"
          ]
        }
      ]
    },
    {
      "cell_type": "code",
      "source": [
        "n=int(input(\"정수를 입력하시오.:\"))\n",
        "\n",
        "if n%2==0 and n%3==0:\n",
        "  print(\"2와 3으로 나누어 떨어집니다.\")\n",
        "else:\n",
        "  print(\"2와 3으로 나누어 떨어지지 않습니다.\")"
      ],
      "metadata": {
        "colab": {
          "base_uri": "https://localhost:8080/"
        },
        "id": "u971oEQSCLeJ",
        "outputId": "b6520eda-71c5-4f75-e97b-b8ecc8329d76"
      },
      "execution_count": 32,
      "outputs": [
        {
          "output_type": "stream",
          "name": "stdout",
          "text": [
            "정수를 입력하시오.:6\n",
            "2와 3으로 나누어 떨어집니다.\n"
          ]
        }
      ]
    },
    {
      "cell_type": "code",
      "source": [
        "import random\n",
        "\n",
        "solution=random.randint(0,99)\n",
        "\n",
        "user=int(input(\"복권번호를 입력하시오(0에서 99사이): \"))\n",
        "\n",
        "digit1=solution//10\n",
        "digit2=solution%10\n",
        "\n",
        "u_digit1=user//10\n",
        "u_digit2=user%10\n",
        "\n",
        "print(\"당첨번호는\", solution,\"입니다.\")\n",
        "if(digit1 == u_digit1 and digit2 == u_digit2):\n",
        "  print(\"상금은 100만원 입니다.\")\n",
        "elif(digit1==u_digit1\n",
        "     or digit1== u_digit2\n",
        "     or digit2== u_digit1\n",
        "     or digit2== u_digit2):\n",
        "  print(\"상금은 50만원입니다.\")\n",
        "else:\n",
        "  print(\"상금은 없습니다.\")"
      ],
      "metadata": {
        "colab": {
          "base_uri": "https://localhost:8080/"
        },
        "id": "uQtceIupB-Xc",
        "outputId": "ea6aa5c5-63d8-4efb-ded6-4a80d13b5b39"
      },
      "execution_count": 37,
      "outputs": [
        {
          "output_type": "stream",
          "name": "stdout",
          "text": [
            "복권번호를 입력하시오(0에서 99사이): 67\n",
            "당첨번호는 90 입니다.\n",
            "상금은 없습니다.\n"
          ]
        }
      ]
    },
    {
      "cell_type": "code",
      "source": [],
      "metadata": {
        "id": "eVv7obCaETgm"
      },
      "execution_count": null,
      "outputs": []
    }
  ]
}